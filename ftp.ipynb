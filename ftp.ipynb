{
 "cells": [
  {
   "cell_type": "code",
   "execution_count": 1,
   "metadata": {},
   "outputs": [
    {
     "data": {
      "text/plain": [
       "'200 PROT now Private.'"
      ]
     },
     "execution_count": 1,
     "metadata": {},
     "output_type": "execute_result"
    }
   ],
   "source": [
    "from ftplib import FTP_TLS\n",
    "\n",
    "ftphost = \"172.17.241.3\"\n",
    "ftpuser = \"ftpuser\"\n",
    "ftppassword = \"password\"\n",
    "ftpport = 21\n",
    "\n",
    "ftp = FTP_TLS()\n",
    "ftp.connect(ftphost, ftpport)\n",
    "ftp.login(ftpuser, ftppassword)\n",
    "ftp.prot_p()"
   ]
  }
 ],
 "metadata": {
  "kernelspec": {
   "display_name": "Python 3",
   "language": "python",
   "name": "python3"
  },
  "language_info": {
   "codemirror_mode": {
    "name": "ipython",
    "version": 3
   },
   "file_extension": ".py",
   "mimetype": "text/x-python",
   "name": "python",
   "nbconvert_exporter": "python",
   "pygments_lexer": "ipython3",
   "version": "3.11.5"
  }
 },
 "nbformat": 4,
 "nbformat_minor": 2
}
